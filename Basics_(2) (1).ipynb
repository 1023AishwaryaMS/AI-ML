{
  "cells": [
    {
      "cell_type": "markdown",
      "id": "73de5498",
      "metadata": {
        "id": "73de5498"
      },
      "source": [
        "# Agenda\n",
        "\n",
        "## 1. Introduction\n",
        "   - Brief overview of the notebook's purpose.\n",
        "   - Mention the use of basic Python concepts and data science applications.\n",
        "\n",
        "## 2. Example Program: Analyzing Student Scores\n",
        "   - **Tuples and Lists:**\n",
        "     - Combining student names and scores.\n",
        "     - Sorting data based on scores in descending order.\n",
        "\n",
        "   - **Arrays:**\n",
        "     - Calculating the average score using NumPy arrays.\n",
        "\n",
        "   - **Dictionaries:**\n",
        "     - Creating a dictionary with student names and scores.\n",
        "\n",
        "   - **Matrices:**\n",
        "     - Creating a matrix with student names and scores.\n",
        "     - Transposing the matrix for better organization.\n",
        "\n",
        "   - **Functions:**\n",
        "     - Calculating the average score.\n",
        "     - Plotting a bar chart of student scores.\n",
        "\n",
        "   - **Data Display:**\n",
        "     - Displaying sorted student data.\n",
        "     - Displaying the average score.\n",
        "     - Displaying the student dictionary.\n",
        "     - Displaying the transposed student matrix.\n",
        "\n",
        "   - **Visualization:**\n",
        "     - Plotting a bar chart to visualize student scores.\n",
        "\n",
        "## 3. Data Science Code Summary\n",
        "   - **Data Analysis:**\n",
        "     - Exploratory data analysis on student scores.\n",
        "\n",
        "   - **Visualization:**\n",
        "     - Utilizing Matplotlib for data visualization.\n",
        "\n",
        "   - **NumPy for Data Manipulation:**\n",
        "     - Calculating the average score using NumPy arrays.\n",
        "\n",
        "   - **scikit-learn for Basic Machine Learning:**\n",
        "     - Basic linear regression model to predict student scores.\n",
        "\n",
        "## 4. Conclusion\n",
        "   - Encouragement to modify and expand upon the notebook.\n",
        "   - Acknowledgment of the basic Python concepts and data science techniques covered.\n"
      ]
    },
    {
      "cell_type": "code",
      "execution_count": null,
      "id": "c16e10c4",
      "metadata": {
        "id": "c16e10c4",
        "outputId": "f6db40f1-600f-4e45-f1e2-86d45cb74ece",
        "colab": {
          "base_uri": "https://localhost:8080/"
        }
      },
      "outputs": [
        {
          "output_type": "stream",
          "name": "stdout",
          "text": [
            "1\n",
            "(3, 'a', 'b')\n",
            "(1, 2, 3, 'a', 'b', 4, 5)\n",
            "<class 'tuple'>\n",
            "7\n"
          ]
        }
      ],
      "source": [
        "# Jupyter Notebook with Basic Python Concepts\n",
        "\n",
        "## Tuples:\n",
        "\n",
        "# Creating a tuple\n",
        "my_tuple = (1, 2, 3, 'a', 'b')\n",
        "\n",
        "# Accessing elements\n",
        "print(my_tuple[0])  # Output: 1\n",
        "\n",
        "# Slicing\n",
        "print(my_tuple[2:])  # Output: (2, 3, 'a') (1:n-1)\n",
        "\n",
        "# Concatenation\n",
        "new_tuple = my_tuple + (4, 5)\n",
        "print(new_tuple)  # Output: (1, 2, 3, 'a', 'b', 4, 5)\n",
        "print(type(new_tuple))\n",
        "print(len(new_tuple))\n",
        "\n"
      ]
    },
    {
      "cell_type": "markdown",
      "id": "63b8f950",
      "metadata": {
        "id": "63b8f950"
      },
      "source": [
        "Tuple : Immutable,\n",
        "Advantages of Tuple: It will not consume reference memory as the data inside cannot be updated"
      ]
    },
    {
      "cell_type": "code",
      "execution_count": null,
      "id": "13643d4b",
      "metadata": {
        "id": "13643d4b",
        "outputId": "d79d9363-998d-40c6-b19d-3399d9f5358f",
        "colab": {
          "base_uri": "https://localhost:8080/"
        }
      },
      "outputs": [
        {
          "output_type": "stream",
          "name": "stdout",
          "text": [
            "[1, 2, 'c', 'b', 4]\n",
            "[0, 1, 8, 27, 64, 125, 216, 343, 512, 729]\n"
          ]
        }
      ],
      "source": [
        "# Creating a list\n",
        "my_list = [1, 2, 3, 'a', 'b']\n",
        "\n",
        "# Appending an element\n",
        "my_list.append(4)\n",
        "\n",
        "# Removing an element\n",
        "my_list.remove('a')\n",
        "\n",
        "my_list[2] = 'c'\n",
        "\n",
        "# List comprehension\n",
        "squared_numbers = [x**3 for x in range(10)]\n",
        "\n",
        "# Print the list\n",
        "print(my_list)  # Output: [1, 2, 3, 'b', 4]\n",
        "\n",
        "# Print squared_numbers\n",
        "print(squared_numbers)  # Output: [0, 1, 4, 9, 16]\n"
      ]
    },
    {
      "cell_type": "code",
      "execution_count": null,
      "id": "3373df5e",
      "metadata": {
        "id": "3373df5e",
        "outputId": "54f43161-a1b1-4cce-9c53-6316d30b660d"
      },
      "outputs": [
        {
          "name": "stdout",
          "output_type": "stream",
          "text": [
            "[1, 2, 3, 4, 5]\n"
          ]
        }
      ],
      "source": [
        "import numpy as np\n",
        "\n",
        "# Creating a NumPy array\n",
        "my_array = np.array([1, 2, 3, 4, 5])\n",
        "\n",
        "# Array operations\n",
        "sum_array = np.sum(my_array)\n",
        "mean_array = np.mean(my_array)\n",
        "\n",
        "# Array slicing\n",
        "subset_array = my_array[1:4]\n",
        "\n",
        "# Print the array\n",
        "print(my_array)  # Output: [1 2 3 4 5]\n"
      ]
    },
    {
      "cell_type": "code",
      "execution_count": null,
      "id": "906efa93",
      "metadata": {
        "id": "906efa93",
        "outputId": "1a24c5a2-5860-439c-887c-1b6b0fe40fa4"
      },
      "outputs": [
        {
          "name": "stdout",
          "output_type": "stream",
          "text": [
            "New York\n",
            "{'name': 'John', 'city': 'New York', 'occupation': 'Engineer', 'college': 'MIT'}\n"
          ]
        }
      ],
      "source": [
        "# Creating a dictionary\n",
        "my_dict = {'name': 'John', 'age': 25, 'city': 'New York'}\n",
        "# {'name':'Raj', 'age':28, 'city':'Bangalore'}\n",
        "# Accessing values\n",
        "print(my_dict['city'])  # Output: New York\n",
        "\n",
        "# Adding a new key-value pair\n",
        "my_dict['occupation'] = 'Engineer'\n",
        "my_dict['college'] = 'MIT'\n",
        "\n",
        "# Removing a key-value pair\n",
        "del my_dict['age']\n",
        "\n",
        "# Print the dictionary\n",
        "print(my_dict)  # Output: {'name': 'John', 'city': 'New York', 'occupation': 'Engineer'}\n"
      ]
    },
    {
      "cell_type": "code",
      "execution_count": null,
      "id": "8e7b3c7d",
      "metadata": {
        "id": "8e7b3c7d",
        "outputId": "4b610633-ec0e-4041-8b0d-e8622f15a5bb"
      },
      "outputs": [
        {
          "name": "stdout",
          "output_type": "stream",
          "text": [
            "[[1 2 3]\n",
            " [4 5 6]]\n",
            "[[1 4]\n",
            " [2 5]\n",
            " [3 6]]\n",
            "[[14 32]\n",
            " [32 77]]\n"
          ]
        }
      ],
      "source": [
        "# Creating a 2x3 matrix\n",
        "my_matrix = np.array([[1, 2, 3], [4, 5, 6]])\n",
        "\n",
        "# Matrix operations\n",
        "transpose_matrix = np.transpose(my_matrix)\n",
        "matrix_product = np.dot(my_matrix, transpose_matrix)\n",
        "\n",
        "# Print the matrix\n",
        "print(my_matrix)\n",
        "print(transpose_matrix)\n",
        "print(matrix_product)\n",
        "\n",
        "\n"
      ]
    },
    {
      "cell_type": "code",
      "execution_count": null,
      "id": "5a90f6c9",
      "metadata": {
        "id": "5a90f6c9",
        "outputId": "bb13a417-54dd-4e2a-c8ec-6e39ca38f10b"
      },
      "outputs": [
        {
          "name": "stdout",
          "output_type": "stream",
          "text": [
            "8\n"
          ]
        }
      ],
      "source": [
        "# Function structure\n",
        "def my_function(parameter1, parameter2):\n",
        "    # Function body\n",
        "    # Code to be executed\n",
        "    result = parameter1 + parameter2\n",
        "    return result\n",
        "\n",
        "# Example function\n",
        "def add_numbers(x, y):\n",
        "    result = x + y**2\n",
        "    return result\n",
        "\n",
        "# Calling the function\n",
        "sum_result = add_numbers(3, 5)\n",
        "print(sum_result)  # Output: 8\n"
      ]
    },
    {
      "cell_type": "code",
      "execution_count": null,
      "id": "778c5fdc",
      "metadata": {
        "id": "778c5fdc",
        "colab": {
          "base_uri": "https://localhost:8080/"
        },
        "outputId": "d0a935c2-496c-444c-c58e-a9e9f89af84e"
      },
      "outputs": [
        {
          "output_type": "stream",
          "name": "stdout",
          "text": [
            "[(1, 0), (2, 10), (3, 20)]\n"
          ]
        }
      ],
      "source": [
        "student_names=(1,2,3)\n",
        "scores=(0,10,20)\n",
        "student_data = list(zip(student_names, scores))\n",
        "print(student_data)\n"
      ]
    },
    {
      "cell_type": "markdown",
      "id": "d1230817",
      "metadata": {
        "id": "d1230817"
      },
      "source": [
        "# My Jupyter Notebook\n",
        "\n",
        "This is a Markdown cell. You can use it to add formatted text.\n",
        "\n",
        "## Section 1: Introduction\n",
        "\n",
        "In this notebook, we will explore some basic Python concepts and data science applications.\n",
        "\n",
        "## Section 2: Example Program\n",
        "\n",
        "Let's create a simple program that analyzes student scores.\n",
        "\n",
        "## Section 3: Conclusion\n",
        "\n",
        "Feel free to modify and expand upon this notebook based on your needs."
      ]
    },
    {
      "cell_type": "code",
      "execution_count": null,
      "id": "24ef26ba",
      "metadata": {
        "id": "24ef26ba",
        "outputId": "83b95b13-aef6-443f-ddd8-caf717cf939a"
      },
      "outputs": [
        {
          "name": "stdout",
          "output_type": "stream",
          "text": [
            "Sorted Student Data:\n",
            "David: 95\n",
            "Bob: 92\n",
            "Emma: 88\n",
            "Alice: 85\n",
            "Charlie: 78\n",
            "\n",
            "Average Score: 87.60\n",
            "\n",
            "Student Dictionary:\n",
            "Alice: 85\n",
            "Bob: 92\n",
            "Charlie: 78\n",
            "David: 95\n",
            "Emma: 88\n",
            "\n",
            "Transposed Student Matrix:\n",
            "[['Alice' '85']\n",
            " ['Bob' '92']\n",
            " ['Charlie' '78']\n",
            " ['David' '95']\n",
            " ['Emma' '88']]\n"
          ]
        },
        {
          "data": {
            "image/png": "[encoded data removed]",
            "text/plain": [
              "<Figure size 432x288 with 1 Axes>"
            ]
          },
          "metadata": {
            "needs_background": "light"
          },
          "output_type": "display_data"
        }
      ],
      "source": [
        "# Import necessary libraries\n",
        "import numpy as np\n",
        "import matplotlib.pyplot as plt\n",
        "\n",
        "# Function to calculate the average score\n",
        "def calculate_average(scores):\n",
        "    return np.mean(scores)\n",
        "\n",
        "# Function to plot a bar chart\n",
        "def plot_scores_bar_chart(student_names, scores):\n",
        "    plt.bar(student_names, scores, color='blue')\n",
        "    plt.xlabel('Students')\n",
        "    plt.ylabel('Scores')\n",
        "    plt.title('Student Scores Bar Chart')\n",
        "    plt.show()\n",
        "\n",
        "# Data for students\n",
        "student_names = ['Alice', 'Bob', 'Charlie', 'David', 'Emma']\n",
        "scores = np.array([85, 92, 78, 95, 88])\n",
        "\n",
        "# Tuples and Lists\n",
        "# Combining student names and scores into a list of tuples\n",
        "student_data = list(zip(student_names, scores))\n",
        "\n",
        "# Sorting the student data based on scores in descending order\n",
        "sorted_student_data = sorted(student_data, key=lambda x: x[1], reverse=True)\n",
        "\n",
        "# Displaying the sorted student data\n",
        "print(\"Sorted Student Data:\")\n",
        "for name, score in sorted_student_data:\n",
        "    print(f\"{name}: {score}\")\n",
        "\n",
        "# Arrays\n",
        "# Calculating the average score using NumPy array\n",
        "average_score = calculate_average(scores)\n",
        "print(f\"\\nAverage Score: {average_score:.2f}\")\n",
        "\n",
        "# Dictionaries\n",
        "# Creating a dictionary with student names as keys and scores as values\n",
        "student_dict = dict(zip(student_names, scores))\n",
        "\n",
        "# Displaying the student dictionary\n",
        "print(\"\\nStudent Dictionary:\")\n",
        "for name, score in student_dict.items():\n",
        "    print(f\"{name}: {score}\")\n",
        "\n",
        "# Matrices\n",
        "# Creating a matrix with student names and scores\n",
        "student_matrix = np.array([student_names, scores])\n",
        "\n",
        "# Transposing the matrix for better organization\n",
        "transposed_student_matrix = np.transpose(student_matrix)\n",
        "\n",
        "# Displaying the transposed student matrix\n",
        "print(\"\\nTransposed Student Matrix:\")\n",
        "print(transposed_student_matrix)\n",
        "\n",
        "# Function calls\n",
        "# Plotting a bar chart of student scores\n",
        "plot_scores_bar_chart(student_names, scores)\n"
      ]
    },
    {
      "cell_type": "markdown",
      "id": "c0a8c98c",
      "metadata": {
        "id": "c0a8c98c"
      },
      "source": [
        "Tuples and Lists are used to combine student names and scores, and then the data is sorted based on scores in descending order.\n",
        "Arrays are used to calculate the average score.\n",
        "Dictionaries are used to create a mapping of student names to scores.\n",
        "Matrices are used to organize the student names and scores.\n",
        "Functions are defined to calculate the average score and plot a bar chart of student scores."
      ]
    },
    {
      "cell_type": "markdown",
      "id": "92d9678c",
      "metadata": {
        "id": "92d9678c"
      },
      "source": [
        "# Data Visualization and Linear Regression\n",
        "\n",
        "In this section, we'll delve into the details of three important concepts in data visualization and basic machine learning: Sinusoidal Plot, Scatter Plot, and Linear Regression.\n",
        "\n",
        "## 1. Sinusoidal Plot\n",
        "\n",
        "A sinusoidal plot is a graphical representation of a sinusoidal function, typically in the form of a sine or cosine curve. Sinusoidal functions exhibit periodic oscillations and are commonly encountered in various scientific and engineering applications. The general form of a sinusoidal function is given by:\n",
        "\n",
        "\\[ f(x) = A \\cdot \\sin(Bx + C) + D \\]\n",
        "\n",
        "Where:\n",
        "- \\( A \\) is the amplitude, determining the peak value of the oscillation.\n",
        "- \\( B \\) is the frequency, controlling how many oscillations occur over a given interval.\n",
        "- \\( C \\) is the phase shift, indicating a horizontal displacement of the curve.\n",
        "- \\( D \\) is the vertical shift, representing an upward or downward shift.\n",
        "\n",
        "Understanding sinusoidal plots is essential in signal processing, physics, and many other fields.\n",
        "\n",
        "## 2. Scatter Plot\n",
        "\n",
        "A scatter plot is a two-dimensional data visualization technique where individual data points are represented as dots on the graph. Each dot on the scatter plot corresponds to a single observation, with the horizontal and vertical positions representing two different variables. Scatter plots are valuable for identifying relationships between variables, detecting patterns, and identifying outliers.\n",
        "\n",
        "Key features of a scatter plot:\n",
        "- **X-axis and Y-axis:** Represent the variables being compared.\n",
        "- **Title:** Provides a concise description of the relationship being depicted.\n",
        "- **Markers:** Represent individual data points.\n",
        "\n",
        "Scatter plots are widely used in exploratory data analysis and are an effective tool for visualizing the distribution of data.\n",
        "\n",
        "## 3. Linear Regression\n",
        "\n",
        "Linear regression is a statistical method used to model the relationship between a dependent variable and one or more independent variables. In the case of simple linear regression, there is only one independent variable. The relationship is expressed by the equation of a straight line:\n",
        "\n",
        "\\[ y = mx + b \\]\n",
        "\n",
        "Where:\n",
        "- \\( y \\) is the dependent variable.\n",
        "- \\( x \\) is the independent variable.\n",
        "- \\( m \\) is the slope of the line.\n",
        "- \\( b \\) is the y-intercept.\n",
        "\n",
        "Linear regression is widely used for predicting numerical values and understanding the strength and direction of relationships between variables. In the context of machine learning, it serves as a foundational algorithm for regression tasks.\n",
        "\n",
        "Understanding these visualization techniques and regression concepts is crucial for effective data analysis and machine learning model interpretation.\n"
      ]
    },
    {
      "cell_type": "code",
      "execution_count": null,
      "id": "222e86aa",
      "metadata": {
        "id": "222e86aa",
        "outputId": "0d86215b-8649-49d9-fb5a-6d7867d84124"
      },
      "outputs": [
        {
          "data": {
            "image/png": "[encoded data removed]",
            "text/plain": [
              "<Figure size 432x288 with 1 Axes>"
            ]
          },
          "metadata": {
            "needs_background": "light"
          },
          "output_type": "display_data"
        },
        {
          "data": {
            "image/png": "[encoded data removed]",
            "text/plain": [
              "<Figure size 432x288 with 1 Axes>"
            ]
          },
          "metadata": {
            "needs_background": "light"
          },
          "output_type": "display_data"
        },
        {
          "name": "stdout",
          "output_type": "stream",
          "text": [
            "Mean Squared Error: 0.010739567142831783\n"
          ]
        },
        {
          "data": {
            "image/png": "[encoded data removed]",
            "text/plain": [
              "<Figure size 432x288 with 1 Axes>"
            ]
          },
          "metadata": {
            "needs_background": "light"
          },
          "output_type": "display_data"
        }
      ],
      "source": [
        "# Import necessary libraries\n",
        "import numpy as np\n",
        "import matplotlib.pyplot as plt\n",
        "from sklearn.model_selection import train_test_split\n",
        "from sklearn.linear_model import LinearRegression\n",
        "from sklearn.metrics import mean_squared_error\n",
        "\n",
        "# Basic NumPy operations for data manipulation\n",
        "# Creating arrays\n",
        "arr1 = np.array([1, 2, 3, 4, 5])\n",
        "arr2 = np.array([6, 7, 8, 9, 10])\n",
        "\n",
        "# Element-wise operations\n",
        "sum_array = arr1 + arr2\n",
        "product_array = arr1 * arr2\n",
        "\n",
        "# Matrix multiplication\n",
        "matrix1 = np.array([[1, 2], [3, 4]])\n",
        "matrix2 = np.array([[5, 6], [7, 8]])\n",
        "product_matrix = np.dot(matrix1, matrix2)\n",
        "\n",
        "# Data visualization using Matplotlib\n",
        "# Creating a simple plot\n",
        "x = np.linspace(0, 10, 100)\n",
        "y = np.sin(x)\n",
        "plt.plot(x, y)\n",
        "plt.xlabel('X-axis')\n",
        "plt.ylabel('Y-axis')\n",
        "plt.title('Simple Sinusoidal Plot')\n",
        "plt.show()\n",
        "\n",
        "# Generating a scatter plot\n",
        "data_points = 100\n",
        "x = np.random.rand(data_points)\n",
        "y = 2 * x + 1 + np.random.randn(data_points)\n",
        "plt.scatter(x, y)\n",
        "plt.xlabel('X-axis')\n",
        "plt.ylabel('Y-axis')\n",
        "plt.title('Scatter Plot with Random Data')\n",
        "plt.show()\n",
        "\n",
        "# Basic Machine Learning using scikit-learn\n",
        "# Generating synthetic data\n",
        "X = np.random.rand(100, 1)\n",
        "y = 2 * X + 1 + 0.1 * np.random.randn(100, 1)\n",
        "\n",
        "# Splitting data into training and testing sets\n",
        "X_train, X_test, y_train, y_test = train_test_split(X, y, test_size=0.2, random_state=42)\n",
        "\n",
        "# Creating a linear regression model\n",
        "model = LinearRegression()\n",
        "\n",
        "# Training the model\n",
        "model.fit(X_train, y_train)\n",
        "\n",
        "# overshoot, undershoot, or u will get the (90%)\n",
        "\n",
        "# Making predictions on the test set\n",
        "y_pred = model.predict(X_test)\n",
        "\n",
        "# Evaluating the model\n",
        "mse = mean_squared_error(y_test, y_pred)\n",
        "print(f'Mean Squared Error: {mse}')\n",
        "\n",
        "# Plotting the regression line\n",
        "plt.scatter(X_test, y_test, color='black')\n",
        "plt.plot(X_test, y_pred, color='blue', linewidth=3)\n",
        "plt.xlabel('X-axis')\n",
        "plt.ylabel('Y-axis')\n",
        "plt.title('Linear Regression Model')\n",
        "plt.show()\n"
      ]
    },
    {
      "cell_type": "markdown",
      "id": "aaa455aa",
      "metadata": {
        "id": "aaa455aa"
      },
      "source": [
        "# Applications and Use Cases of Data Visualization and Linear Regression\n",
        "\n",
        "In data science and machine learning, various visualization techniques and regression models serve specific purposes. Let's explore the applications and use cases of sinusoidal plots, scatter plots, and linear regression.\n",
        "\n",
        "## 1. Sinusoidal Plot\n",
        "\n",
        "### Applications:\n",
        "- **Signal Processing:** Sinusoidal functions are fundamental in signal processing. They are used to analyze and manipulate signals in applications such as audio processing and telecommunications.\n",
        "- **Physics:** Sinusoidal motion is prevalent in physics, describing phenomena like oscillations, waves, and harmonic motion.\n",
        "- **Engineering:** Engineers use sinusoidal functions to model vibrations, resonance, and alternating current in electrical circuits.\n",
        "\n",
        "### Use Cases:\n",
        "- **Audio Processing:** Representing and analyzing sound waves in digital audio processing.\n",
        "- **Wireless Communication:** Modulating signals for wireless transmission.\n",
        "- **Vibration Analysis:** Understanding and predicting vibrations in mechanical systems.\n",
        "\n",
        "## 2. Scatter Plot\n",
        "\n",
        "### Applications:\n",
        "- **Exploratory Data Analysis (EDA):** Scatter plots are a powerful tool for visualizing relationships between two variables during the initial phase of data analysis.\n",
        "- **Outlier Detection:** Identifying data points that deviate significantly from the general trend.\n",
        "- **Correlation Analysis:** Assessing the strength and direction of relationships between variables.\n",
        "\n",
        "### Use Cases:\n",
        "- **Finance:** Analyzing the relationship between variables like stock prices and trading volumes.\n",
        "- **Biology:** Investigating correlations between two biological variables in research studies.\n",
        "- **Marketing:** Understanding the correlation between advertising spending and sales.\n",
        "\n",
        "## 3. Linear Regression\n",
        "\n",
        "### Applications:\n",
        "- **Prediction:** Linear regression is widely used for predicting numerical values based on historical data.\n",
        "- **Trend Analysis:** Identifying trends and patterns in data over time.\n",
        "- **Causal Inference:** Assessing the impact of one variable on another.\n",
        "\n",
        "### Use Cases:\n",
        "- **Finance:** Predicting stock prices based on historical market data.\n",
        "- **Economics:** Analyzing the impact of interest rates on consumer spending.\n",
        "- **Healthcare:** Predicting patient outcomes based on medical data.\n",
        "\n",
        "## Conclusion\n",
        "\n",
        "Understanding the applications and use cases of sinusoidal plots, scatter plots, and linear regression is essential for leveraging these techniques effectively in data analysis, scientific research, and machine learning. Each method plays a distinct role in extracting valuable insights from data and making informed decisions in various domains.\n"
      ]
    },
    {
      "cell_type": "markdown",
      "id": "68672131",
      "metadata": {
        "id": "68672131"
      },
      "source": [
        "# Data Sources for Datasets in Data Science\n",
        "\n",
        "When working on data science projects, finding high-quality datasets is crucial for meaningful analysis and model development. Here are some platforms and sources where you can obtain diverse datasets for your projects:\n",
        "\n",
        "## 1. **Kaggle**\n",
        "\n",
        "[Kaggle](https://www.kaggle.com/datasets) is one of the largest platforms for data science competitions and collaborative projects. It hosts a vast collection of datasets contributed by the community, covering a wide range of domains such as finance, healthcare, and natural language processing.\n",
        "\n",
        "## 2. **UCI Machine Learning Repository**\n",
        "\n",
        "The [UCI Machine Learning Repository](http://archive.ics.uci.edu/ml/index.php) is a collection of datasets maintained by the University of California, Irvine. It includes datasets for various machine learning tasks, and each dataset comes with detailed descriptions and documentation.\n",
        "\n",
        "## 3. **GitHub**\n",
        "\n",
        "[Github](https://github.com/) is a platform where developers and data scientists share code and datasets. You can find datasets by searching for repositories tagged as \"datasets\" or exploring dedicated repositories that curate datasets for specific purposes.\n",
        "\n",
        "## 4. **Open Data Platforms**\n",
        "\n",
        "Many governments and organizations provide open datasets for public use. Platforms like [data.gov](https://www.data.gov/) (United States), [data.gov.uk](https://data.gov.uk/) (United Kingdom), and [European Data Portal](https://www.europeandataportal.eu/en) offer a wealth of government and public datasets.\n",
        "\n",
        "## 5. **Google Dataset Search**\n",
        "\n",
        "[Google Dataset Search](https://datasetsearch.research.google.com/) is a tool provided by Google that enables users to search for datasets across the web. It indexes datasets from various sources, making it easier to discover relevant data for your projects.\n",
        "\n",
        "## 6. **AWS Public Datasets**\n",
        "\n",
        "Amazon Web Services (AWS) provides a collection of [public datasets](https://registry.opendata.aws/) that are hosted on their cloud platform. These datasets cover a broad spectrum of domains and are accessible for analysis using AWS services.\n",
        "\n",
        "## 7. **Data Science Competitions**\n",
        "\n",
        "Platforms like Kaggle, [DrivenData](https://www.drivendata.org/), and [Zindi](https://zindi.africa/) host data science competitions where datasets are provided for specific challenges. Participating in these competitions not only gives you access to datasets but also allows you to test your skills against real-world problems.\n",
        "\n",
        "## Conclusion\n",
        "\n",
        "Access to\n"
      ]
    },
    {
      "cell_type": "code",
      "source": [
        "!pip install colab_turtle\n"
      ],
      "metadata": {
        "colab": {
          "base_uri": "https://localhost:8080/"
        },
        "id": "W75zSrLF7Rwn",
        "outputId": "ad92bbde-ba77-417d-a95f-c82c0dda9214"
      },
      "id": "W75zSrLF7Rwn",
      "execution_count": null,
      "outputs": [
        {
          "output_type": "stream",
          "name": "stdout",
          "text": [
            "\u001b[31mERROR: Could not find a version that satisfies the requirement colab_turtle (from versions: none)\u001b[0m\u001b[31m\n",
            "\u001b[0m\u001b[31mERROR: No matching distribution found for colab_turtle\u001b[0m\u001b[31m\n",
            "\u001b[0m"
          ]
        }
      ]
    },
    {
      "cell_type": "code",
      "execution_count": null,
      "id": "bcd70edf",
      "metadata": {
        "id": "bcd70edf",
        "colab": {
          "base_uri": "https://localhost:8080/",
          "height": 418
        },
        "outputId": "5b970f13-d009-4641-b2bb-6e41af81e40c"
      },
      "outputs": [
        {
          "output_type": "stream",
          "name": "stdout",
          "text": [
            "\u001b[31mERROR: Could not find a version that satisfies the requirement colab_turtle (from versions: none)\u001b[0m\u001b[31m\n",
            "\u001b[0m\u001b[31mERROR: No matching distribution found for colab_turtle\u001b[0m\u001b[31m\n",
            "\u001b[0m"
          ]
        },
        {
          "output_type": "error",
          "ename": "ModuleNotFoundError",
          "evalue": "No module named 'colab_turtle'",
          "traceback": [
            "\u001b[0;31m---------------------------------------------------------------------------\u001b[0m",
            "\u001b[0;31mModuleNotFoundError\u001b[0m                       Traceback (most recent call last)",
            "\u001b[0;32m<ipython-input-3-928c4123a632>\u001b[0m in \u001b[0;36m<cell line: 6>\u001b[0;34m()\u001b[0m\n\u001b[1;32m      4\u001b[0m \u001b[0;31m# Import necessary libraries\u001b[0m\u001b[0;34m\u001b[0m\u001b[0;34m\u001b[0m\u001b[0m\n\u001b[1;32m      5\u001b[0m \u001b[0;32mfrom\u001b[0m \u001b[0mtkinter\u001b[0m \u001b[0;32mimport\u001b[0m \u001b[0;34m*\u001b[0m\u001b[0;34m\u001b[0m\u001b[0;34m\u001b[0m\u001b[0m\n\u001b[0;32m----> 6\u001b[0;31m \u001b[0;32mfrom\u001b[0m \u001b[0mcolab_turtle\u001b[0m \u001b[0;32mimport\u001b[0m \u001b[0;34m*\u001b[0m\u001b[0;34m\u001b[0m\u001b[0;34m\u001b[0m\u001b[0m\n\u001b[0m\u001b[1;32m      7\u001b[0m \u001b[0;34m\u001b[0m\u001b[0m\n\u001b[1;32m      8\u001b[0m \u001b[0;31m# Function to create a tkinter window\u001b[0m\u001b[0;34m\u001b[0m\u001b[0;34m\u001b[0m\u001b[0m\n",
            "\u001b[0;31mModuleNotFoundError\u001b[0m: No module named 'colab_turtle'",
            "",
            "\u001b[0;31m---------------------------------------------------------------------------\u001b[0;32m\nNOTE: If your import is failing due to a missing package, you can\nmanually install dependencies using either !pip or !apt.\n\nTo view examples of installing some common dependencies, click the\n\"Open Examples\" button below.\n\u001b[0;31m---------------------------------------------------------------------------\u001b[0m\n"
          ],
          "errorDetails": {
            "actions": [
              {
                "action": "open_url",
                "actionText": "Open Examples",
                "url": "/notebooks/snippets/importing_libraries.ipynb"
              }
            ]
          }
        }
      ],
      "source": [
        "# Install colab_turtle library\n",
        "\n",
        "# Import necessary libraries\n",
        "from tkinter import *\n",
        "from colab_turtle import *\n",
        "\n",
        "# Function to create a tkinter window\n",
        "def create_tkinter_window():\n",
        "    root = Tk()  # Create Tkinter window\n",
        "    root.title(\"Tkinter Session\")  # Set title for the window\n",
        "    root.geometry(\"300x200\")  # Set initial size of the window\n",
        "\n",
        "    label = Label(root, text=\"Welcome to Tkinter Session!\")  # Create a label\n",
        "    label.pack()  # Add label to the window\n",
        "\n",
        "    root.mainloop()  # Start Tkinter event loop\n",
        "\n",
        "# Function to draw a square using Turtle\n",
        "def draw_square():\n",
        "    for _ in range(4):\n",
        "        forward(100)\n",
        "        right(90)\n",
        "\n",
        "# Function to create a turtle graphics window\n",
        "def create_turtle_window():\n",
        "    initializeTurtle()  # Initialize Turtle\n",
        "    speed(3)  # Set drawing speed\n",
        "    draw_square()  # Draw a square\n",
        "\n",
        "# Main function to run sessions\n",
        "def main():\n",
        "    print(\"Welcome to Python Sessions with Tkinter and Turtle libraries!\")\n",
        "    print(\"Choose the session you want to attend:\")\n",
        "    print(\"1. Tkinter Session\")\n",
        "    print(\"2. Turtle Session\")\n",
        "    choice = input(\"Enter your choice (1/2): \")\n",
        "\n",
        "    if choice == '1':\n",
        "        create_tkinter_window()  # Call function to create tkinter window\n",
        "    elif choice == '2':\n",
        "        create_turtle_window()  # Call function to create turtle graphics window\n",
        "    else:\n",
        "        print(\"Invalid choice. Please enter either 1 or 2.\")\n",
        "\n",
        "# Run the main function\n",
        "if __name__ == \"__main__\":\n",
        "    main()\n"
      ]
    },
    {
      "cell_type": "code",
      "source": [],
      "metadata": {
        "id": "FlQtxmLr7N-w"
      },
      "id": "FlQtxmLr7N-w",
      "execution_count": null,
      "outputs": []
    }
  ],
  "metadata": {
    "kernelspec": {
      "display_name": "Python 3",
      "language": "python",
      "name": "python3"
    },
    "language_info": {
      "codemirror_mode": {
        "name": "ipython",
        "version": 3
      },
      "file_extension": ".py",
      "mimetype": "text/x-python",
      "name": "python",
      "nbconvert_exporter": "python",
      "pygments_lexer": "ipython3",
      "version": "3.8.8"
    },
    "colab": {
      "provenance": []
    }
  },
  "nbformat": 4,
  "nbformat_minor": 5
}